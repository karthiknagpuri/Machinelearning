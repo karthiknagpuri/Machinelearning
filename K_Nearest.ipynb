{
  "nbformat": 4,
  "nbformat_minor": 0,
  "metadata": {
    "colab": {
      "name": "K-NearestNeighbours.ipynb",
      "provenance": []
    },
    "kernelspec": {
      "name": "python3",
      "display_name": "Python 3"
    },
    "language_info": {
      "name": "python"
    }
  },
  "cells": [
    {
      "cell_type": "code",
      "metadata": {
        "id": "6mUhNjKzrc4i"
      },
      "source": [
        "\n",
        "from sklearn import datasets"
      ],
      "execution_count": 2,
      "outputs": []
    },
    {
      "cell_type": "markdown",
      "metadata": {
        "id": "DBcnOxi7seCh"
      },
      "source": [
        "loading dataset"
      ]
    },
    {
      "cell_type": "code",
      "metadata": {
        "id": "zo57X2atsO8l"
      },
      "source": [
        "iris_dataset=datasets.load_iris()"
      ],
      "execution_count": 3,
      "outputs": []
    },
    {
      "cell_type": "code",
      "metadata": {
        "colab": {
          "base_uri": "https://localhost:8080/"
        },
        "id": "5IWCCYFHst3f",
        "outputId": "435c20e7-91a5-4e5b-d292-36cb01a98758"
      },
      "source": [
        "print(iris_dataset.feature_names)"
      ],
      "execution_count": 4,
      "outputs": [
        {
          "output_type": "stream",
          "name": "stdout",
          "text": [
            "['sepal length (cm)', 'sepal width (cm)', 'petal length (cm)', 'petal width (cm)']\n"
          ]
        }
      ]
    },
    {
      "cell_type": "markdown",
      "metadata": {
        "id": "EONvXsZmtjYZ"
      },
      "source": [
        "checking records of the target set"
      ]
    },
    {
      "cell_type": "code",
      "metadata": {
        "colab": {
          "base_uri": "https://localhost:8080/"
        },
        "id": "4MqU0LBls6cU",
        "outputId": "7e95cbb8-b20e-4a9c-aa70-1479a844eeb8"
      },
      "source": [
        "print(iris_dataset.target_names)"
      ],
      "execution_count": 5,
      "outputs": [
        {
          "output_type": "stream",
          "name": "stdout",
          "text": [
            "['setosa' 'versicolor' 'virginica']\n"
          ]
        }
      ]
    },
    {
      "cell_type": "code",
      "metadata": {
        "colab": {
          "base_uri": "https://localhost:8080/"
        },
        "id": "u5gBEWr_trf9",
        "outputId": "4edff3f3-6d93-4bff-876d-88969336b9eb"
      },
      "source": [
        "type(iris_dataset.target)"
      ],
      "execution_count": 6,
      "outputs": [
        {
          "output_type": "execute_result",
          "data": {
            "text/plain": [
              "numpy.ndarray"
            ]
          },
          "metadata": {},
          "execution_count": 6
        }
      ]
    },
    {
      "cell_type": "markdown",
      "metadata": {
        "id": "0h0pfWwGt5Xx"
      },
      "source": [
        "checking top 5 records of the dataset"
      ]
    },
    {
      "cell_type": "code",
      "metadata": {
        "colab": {
          "base_uri": "https://localhost:8080/"
        },
        "id": "BQiLlF65t2Pn",
        "outputId": "c2fe6220-2613-4205-fa2e-c540d8773cab"
      },
      "source": [
        "print(iris_dataset.data[0:5])"
      ],
      "execution_count": 7,
      "outputs": [
        {
          "output_type": "stream",
          "name": "stdout",
          "text": [
            "[[5.1 3.5 1.4 0.2]\n",
            " [4.9 3.  1.4 0.2]\n",
            " [4.7 3.2 1.3 0.2]\n",
            " [4.6 3.1 1.5 0.2]\n",
            " [5.  3.6 1.4 0.2]]\n"
          ]
        }
      ]
    },
    {
      "cell_type": "code",
      "metadata": {
        "colab": {
          "base_uri": "https://localhost:8080/"
        },
        "id": "CJ-ShlIguFfx",
        "outputId": "730234b2-8338-464d-bd33-5f0cab7eea51"
      },
      "source": [
        "type(iris_dataset)"
      ],
      "execution_count": 8,
      "outputs": [
        {
          "output_type": "execute_result",
          "data": {
            "text/plain": [
              "sklearn.utils.Bunch"
            ]
          },
          "metadata": {},
          "execution_count": 8
        }
      ]
    },
    {
      "cell_type": "code",
      "metadata": {
        "colab": {
          "base_uri": "https://localhost:8080/"
        },
        "id": "xqlJlkzLuJMa",
        "outputId": "0efd69fd-3508-419d-d61f-504c6f1de4af"
      },
      "source": [
        "print(iris_dataset.target[0:5])"
      ],
      "execution_count": 9,
      "outputs": [
        {
          "output_type": "stream",
          "name": "stdout",
          "text": [
            "[0 0 0 0 0]\n"
          ]
        }
      ]
    },
    {
      "cell_type": "markdown",
      "metadata": {
        "id": "QpWXw2SduSym"
      },
      "source": [
        "checking the shape of the dataset using shape functions"
      ]
    },
    {
      "cell_type": "code",
      "metadata": {
        "colab": {
          "base_uri": "https://localhost:8080/"
        },
        "id": "HGzAEcxVuRFd",
        "outputId": "ed6e894e-c22b-408c-a9b9-5db3dcd43098"
      },
      "source": [
        "print(iris_dataset.data.shape)"
      ],
      "execution_count": 10,
      "outputs": [
        {
          "output_type": "stream",
          "name": "stdout",
          "text": [
            "(150, 4)\n"
          ]
        }
      ]
    },
    {
      "cell_type": "markdown",
      "metadata": {
        "id": "j4mHh5qUuxWX"
      },
      "source": [
        "splitting data using split function\n"
      ]
    },
    {
      "cell_type": "code",
      "metadata": {
        "id": "n-k7bb30uvFC"
      },
      "source": [
        "from sklearn.model_selection import train_test_split"
      ],
      "execution_count": 11,
      "outputs": []
    },
    {
      "cell_type": "markdown",
      "metadata": {
        "id": "gckQLW09vI_o"
      },
      "source": [
        "splitting dataset into training set and testing set"
      ]
    },
    {
      "cell_type": "code",
      "metadata": {
        "id": "p9OT93-IvDuJ"
      },
      "source": [
        "x_train,x_test,y_train,y_test = train_test_split(iris_dataset.data,iris_dataset.target,test_size=0.3)"
      ],
      "execution_count": 13,
      "outputs": []
    },
    {
      "cell_type": "markdown",
      "metadata": {
        "id": "JW-u_rYfv4Uu"
      },
      "source": [
        "creating knn classifier"
      ]
    },
    {
      "cell_type": "code",
      "metadata": {
        "id": "iIlLiZdnwjDz"
      },
      "source": [
        "from sklearn.neighbors import KNeighborsClassifier"
      ],
      "execution_count": 15,
      "outputs": []
    },
    {
      "cell_type": "markdown",
      "metadata": {
        "id": "5h1orxtCyfTF"
      },
      "source": [
        "generating model for k=2"
      ]
    },
    {
      "cell_type": "code",
      "metadata": {
        "id": "1q7m3WRVvlGa"
      },
      "source": [
        "knn2=KNeighborsClassifier(n_neighbors=2)"
      ],
      "execution_count": 24,
      "outputs": []
    },
    {
      "cell_type": "markdown",
      "metadata": {
        "id": "CwvGLIewwunX"
      },
      "source": [
        "training the model using training sets"
      ]
    },
    {
      "cell_type": "code",
      "metadata": {
        "colab": {
          "base_uri": "https://localhost:8080/"
        },
        "id": "lowE2Sd1wOFN",
        "outputId": "cad92c50-8ef3-4265-cb99-cdacc5fe8aaa"
      },
      "source": [
        "knn2.fit(x_train,y_train)"
      ],
      "execution_count": 25,
      "outputs": [
        {
          "output_type": "execute_result",
          "data": {
            "text/plain": [
              "KNeighborsClassifier(n_neighbors=2)"
            ]
          },
          "metadata": {},
          "execution_count": 25
        }
      ]
    },
    {
      "cell_type": "markdown",
      "metadata": {
        "id": "SjE6n90Sw6-N"
      },
      "source": [
        "predicting the response for the test dataset"
      ]
    },
    {
      "cell_type": "code",
      "metadata": {
        "id": "kL9hO8Qiw4U1"
      },
      "source": [
        "y_pred2=knn2.predict(x_test)"
      ],
      "execution_count": 40,
      "outputs": []
    },
    {
      "cell_type": "code",
      "metadata": {
        "colab": {
          "base_uri": "https://localhost:8080/"
        },
        "id": "1DsLSDUpxHQi",
        "outputId": "9e19ace3-e54a-4467-9a4d-9980b13425de"
      },
      "source": [
        "print(\"Accuracy:\",metrics.accuracy_score(y_test,y_pred2))"
      ],
      "execution_count": 42,
      "outputs": [
        {
          "output_type": "stream",
          "name": "stdout",
          "text": [
            "Accuracy: 1.0\n"
          ]
        }
      ]
    },
    {
      "cell_type": "markdown",
      "metadata": {
        "id": "Td66RwWoyipR"
      },
      "source": [
        "generating model for k=5"
      ]
    },
    {
      "cell_type": "code",
      "metadata": {
        "id": "R3BF4eh5xdFa"
      },
      "source": [
        "knn5=KNeighborsClassifier(n_neighbors=5)"
      ],
      "execution_count": 43,
      "outputs": []
    },
    {
      "cell_type": "code",
      "metadata": {
        "colab": {
          "base_uri": "https://localhost:8080/"
        },
        "id": "M1pQ0KvP0d6v",
        "outputId": "4460b566-41a0-457c-bf7b-39ca3d2bd063"
      },
      "source": [
        "knn5.fit(x_train,y_train)"
      ],
      "execution_count": 44,
      "outputs": [
        {
          "output_type": "execute_result",
          "data": {
            "text/plain": [
              "KNeighborsClassifier()"
            ]
          },
          "metadata": {},
          "execution_count": 44
        }
      ]
    },
    {
      "cell_type": "markdown",
      "metadata": {
        "id": "FwUDZByG1TJJ"
      },
      "source": [
        "predicting the response for the test dataset"
      ]
    },
    {
      "cell_type": "code",
      "metadata": {
        "id": "kRFhHxVW02Xq"
      },
      "source": [
        "y_pred5=knn5.predict(x_test)"
      ],
      "execution_count": 45,
      "outputs": []
    },
    {
      "cell_type": "code",
      "metadata": {
        "colab": {
          "base_uri": "https://localhost:8080/"
        },
        "id": "Vl83uQhi1Vyh",
        "outputId": "fffdffe8-645e-465f-cf48-822a59aa4912"
      },
      "source": [
        "print(\"Accuracy:\",metrics.accuracy_score(y_test,y_pred5))"
      ],
      "execution_count": 46,
      "outputs": [
        {
          "output_type": "stream",
          "name": "stdout",
          "text": [
            "Accuracy: 1.0\n"
          ]
        }
      ]
    },
    {
      "cell_type": "code",
      "metadata": {
        "id": "GmFpVJ591hS6"
      },
      "source": [
        ""
      ],
      "execution_count": null,
      "outputs": []
    }
  ]
}