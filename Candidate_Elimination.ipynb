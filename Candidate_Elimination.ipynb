{
  "nbformat": 4,
  "nbformat_minor": 0,
  "metadata": {
    "colab": {
      "name": "Candidate Elimination.ipynb",
      "provenance": [],
      "collapsed_sections": []
    },
    "kernelspec": {
      "name": "python3",
      "display_name": "Python 3"
    },
    "language_info": {
      "name": "python"
    }
  },
  "cells": [
    {
      "cell_type": "code",
      "metadata": {
        "colab": {
          "base_uri": "https://localhost:8080/"
        },
        "id": "ymDjHkhzjMvD",
        "outputId": "eaff56a0-36b7-42cf-fe78-0c50e1a98d35"
      },
      "source": [
        "import csv\n",
        "# open the CSVFile and keep all rows as list of tuples\n",
        "with open('/content/geometry.csv') as csvFile:\n",
        "    examples = [tuple(line) for line in csv.reader(csvFile)]\n",
        "print(examples)"
      ],
      "execution_count": null,
      "outputs": [
        {
          "output_type": "stream",
          "name": "stdout",
          "text": [
            "[('Big', 'Red', 'Circle', 'No'), ('Small', 'Red', 'Triangle', 'No'), ('Small', 'Red', 'Circle', 'Yes'), ('Big', 'Blue', 'Circle', 'No'), ('Small', 'Blue', 'Circle', 'Yes')]\n"
          ]
        }
      ]
    },
    {
      "cell_type": "code",
      "metadata": {
        "colab": {
          "base_uri": "https://localhost:8080/"
        },
        "id": "e_ouN4i1jzCS",
        "outputId": "3d3f4875-0144-405d-f8eb-541ca795fcb9"
      },
      "source": [
        "# To obtain the domain of attribute values defined in the instances X\n",
        "def get_domains(examples):\n",
        "    # set function returns the unordered collection of items with no duplicates\n",
        "    d = [set() for i in examples[0]] \n",
        "    for x in examples:\n",
        "        #Enumerate() function adds a counter to an iterable and returns it in a form of enumerate object i.e(index,value)\n",
        "        for i, xi in enumerate(x):\n",
        "            d[i].add(xi)\n",
        "    return [list(sorted(x)) for x in d]\n",
        "# Test the get_domains function\n",
        "get_domains(examples)"
      ],
      "execution_count": null,
      "outputs": [
        {
          "output_type": "execute_result",
          "data": {
            "text/plain": [
              "[['Big', 'Small'], ['Blue', 'Red'], ['Circle', 'Triangle'], ['No', 'Yes']]"
            ]
          },
          "metadata": {},
          "execution_count": 4
        }
      ]
    },
    {
      "cell_type": "code",
      "metadata": {
        "id": "T9RyoTIUj2BB"
      },
      "source": [
        "# Repeat the '?' and '0' length of domain no of times\n",
        "def g_0(n):\n",
        "    return ('?',)*n\n",
        "\n",
        "def s_0(n):\n",
        "    return ('0',)*n"
      ],
      "execution_count": null,
      "outputs": []
    },
    {
      "cell_type": "code",
      "metadata": {
        "id": "ayIc0M4ej8nx"
      },
      "source": [
        "# Function to check generality between two hypothesis\n",
        "def more_general(h1, h2):\n",
        "    more_general_parts = []\n",
        "    for x, y in zip(h1, h2):\n",
        "        mg = x == '?' or (x != '0' and (x == y or y == '0'))\n",
        "        more_general_parts.append(mg)\n",
        "    return all(more_general_parts) # Returns true if all elements of list or tuple are true\n",
        "\n",
        "# Function to check whether train examples are consistent with hypothesis\n",
        "def consistent(hypothesis,example):\n",
        "    return more_general(hypothesis, example)"
      ],
      "execution_count": null,
      "outputs": []
    },
    {
      "cell_type": "code",
      "metadata": {
        "id": "rzbdvlX9kE1R"
      },
      "source": [
        "# Function to add min_generalizations\n",
        "def min_generalizations(h, x):\n",
        "    h_new = list(h)\n",
        "    for i in range(len(h)):\n",
        "        if not consistent(h[i:i+1],x[i:i+1]):\n",
        "            if h[i] != '0':\n",
        "                h_new[i] = '?'\n",
        "            else:\n",
        "                h_new[i] = x[i]\n",
        "    return [tuple(h_new)]\n",
        "\n",
        "# Function to generalize Specific hypto\n",
        "def generalize_S(x, G, S):\n",
        "    S_prev = list(S)\n",
        "    for s in S_prev:\n",
        "        if s not in S:\n",
        "            continue\n",
        "        if not consistent(s,x):\n",
        "            S.remove(s)\n",
        "            Splus = min_generalizations(s, x)\n",
        "            # Keep only generalizations that have a counterpart in G\n",
        "            S.update([h for h in Splus if any([more_general(g,h) \n",
        "                                               for g in G])])\n",
        "            # Remove from S any hypothesis more general than any other hypothesis in S\n",
        "            S.difference_update([h for h in S if \n",
        "                                 any([more_general(h, h1) \n",
        "                                      for h1 in S if h != h1])])\n",
        "    return S"
      ],
      "execution_count": null,
      "outputs": []
    },
    {
      "cell_type": "code",
      "metadata": {
        "id": "XtJlBg3AkKwZ"
      },
      "source": [
        "# Function to add min_specializations\n",
        "def min_specializations(h, domains, x):\n",
        "    results = []\n",
        "    for i in range(len(h)):\n",
        "        if h[i] == '?':\n",
        "            for val in domains[i]:\n",
        "                if x[i] != val:\n",
        "                    h_new = h[:i] + (val,) + h[i+1:]\n",
        "                    results.append(h_new)\n",
        "        elif h[i] != '0':\n",
        "            h_new = h[:i] + ('0',) + h[i+1:]\n",
        "            results.append(h_new)\n",
        "    return results\n",
        "\n",
        "# Function to specialize General hypotheses boundary\n",
        "def specialize_G(x, domains, G, S):\n",
        "    G_prev = list(G)\n",
        "    for g in G_prev:\n",
        "        if g not in G:\n",
        "            continue\n",
        "        if consistent(g,x):\n",
        "            G.remove(g)\n",
        "            Gminus = min_specializations(g, domains, x)\n",
        "            # Keep only specializations that have a counterpart in S\n",
        "            G.update([h for h in Gminus if any([more_general(h, s)\n",
        "                                                for s in S])])\n",
        "            # Remove hypothesis less general than any other hypothesis in G\n",
        "            G.difference_update([h for h in G if \n",
        "                                 any([more_general(g1, h) \n",
        "                                      for g1 in G if h != g1])])\n",
        "    return G"
      ],
      "execution_count": null,
      "outputs": []
    },
    {
      "cell_type": "code",
      "metadata": {
        "id": "ShYQbC6akPUB"
      },
      "source": [
        "# Function to perform CandidateElimination\n",
        "def candidate_elimination(examples):\n",
        "    domains = get_domains(examples)[:-1] \n",
        "    \n",
        "    G = set([g_0(len(domains))])\n",
        "    S = set([s_0(len(domains))])\n",
        "    i=0\n",
        "    print('All the hypotheses in General and Specific boundary are:\\n')\n",
        "    print('\\n G[{0}]:'.format(i),G)\n",
        "    print('\\n S[{0}]:'.format(i),S)\n",
        "    for xcx in examples:\n",
        "        i=i+1\n",
        "        x, cx = xcx[:-1], xcx[-1]  # Splitting data into attributes and decisions\n",
        "        if cx=='Yes': # x is positive example\n",
        "            G = {g for g in G if consistent(g,x)}\n",
        "            S = generalize_S(x, G, S)\n",
        "        else: # x is negative example\n",
        "            S = {s for s in S if not consistent(s,x)}\n",
        "            G = specialize_G(x, domains, G, S)\n",
        "        print('\\n G[{0}]:'.format(i),G)\n",
        "        print('\\n S[{0}]:'.format(i),S)\n",
        "    return"
      ],
      "execution_count": null,
      "outputs": []
    },
    {
      "cell_type": "code",
      "metadata": {
        "colab": {
          "base_uri": "https://localhost:8080/"
        },
        "id": "Gv3odNb3kW56",
        "outputId": "85ea5b84-b775-48c4-922d-7f1911e22489"
      },
      "source": [
        "#import pixiedust # Visual debugger\n",
        "#%%pixie_debugger\n",
        "candidate_elimination(examples)"
      ],
      "execution_count": null,
      "outputs": [
        {
          "output_type": "stream",
          "name": "stdout",
          "text": [
            "All the hypotheses in General and Specific boundary are:\n",
            "\n",
            "\n",
            " G[0]: {('?', '?', '?')}\n",
            "\n",
            " S[0]: {('0', '0', '0')}\n",
            "\n",
            " G[1]: {('?', '?', 'Triangle'), ('Small', '?', '?'), ('?', 'Blue', '?')}\n",
            "\n",
            " S[1]: {('0', '0', '0')}\n",
            "\n",
            " G[2]: {('Small', '?', 'Circle'), ('?', 'Blue', '?'), ('Big', '?', 'Triangle')}\n",
            "\n",
            " S[2]: {('0', '0', '0')}\n",
            "\n",
            " G[3]: {('Small', '?', 'Circle')}\n",
            "\n",
            " S[3]: {('Small', 'Red', 'Circle')}\n",
            "\n",
            " G[4]: {('Small', '?', 'Circle')}\n",
            "\n",
            " S[4]: {('Small', 'Red', 'Circle')}\n",
            "\n",
            " G[5]: {('Small', '?', 'Circle')}\n",
            "\n",
            " S[5]: {('Small', '?', 'Circle')}\n"
          ]
        }
      ]
    },
    {
      "cell_type": "code",
      "metadata": {
        "colab": {
          "base_uri": "https://localhost:8080/"
        },
        "id": "A0AUsSdPklWC",
        "outputId": "2262949d-f680-41c2-d8a0-0cd19d3b6160"
      },
      "source": [
        "import csv\n",
        "# open the CSVFile and keep all rows as list of tuples\n",
        "with open('/content/Enjoysport (1).csv') as csvFile:\n",
        "    examples = [tuple(line) for line in csv.reader(csvFile)]\n",
        "print(examples)"
      ],
      "execution_count": null,
      "outputs": [
        {
          "output_type": "stream",
          "name": "stdout",
          "text": [
            "[('Big', 'Red', 'Circle', 'No'), ('Small', 'Red', 'Triangle', 'No'), ('Small', 'Red', 'Circle', 'Yes'), ('Big', 'Blue', 'Circle', 'No'), ('Small', 'Blue', 'Circle', 'Yes')]\n"
          ]
        }
      ]
    },
    {
      "cell_type": "code",
      "metadata": {
        "colab": {
          "base_uri": "https://localhost:8080/"
        },
        "id": "W_c2W2QzlDsB",
        "outputId": "74eac7e6-df3c-4e63-d175-19259717d660"
      },
      "source": [
        "# To obtain the domain of attribute values defined in the instances X\n",
        "def get_domains(examples):\n",
        "    # set function returns the unordered collection of items with no duplicates\n",
        "    d = [set() for i in examples[0]] \n",
        "    for x in examples:\n",
        "        #Enumerate() function adds a counter to an iterable and returns it in a form of enumerate object i.e(index,value)\n",
        "        for i, xi in enumerate(x):\n",
        "            d[i].add(xi)\n",
        "    return [list(sorted(x)) for x in d]\n",
        "# Test the get_domains function\n",
        "get_domains(examples)"
      ],
      "execution_count": null,
      "outputs": [
        {
          "output_type": "execute_result",
          "data": {
            "text/plain": [
              "[['Big', 'Small'], ['Blue', 'Red'], ['Circle', 'Triangle'], ['No', 'Yes']]"
            ]
          },
          "metadata": {},
          "execution_count": 12
        }
      ]
    },
    {
      "cell_type": "code",
      "metadata": {
        "id": "zr3YPoxhlHmi"
      },
      "source": [
        "# Repeat the '?' and '0' length of domain no of times\n",
        "def g_0(n):\n",
        "    return ('?',)*n\n",
        "\n",
        "def s_0(n):\n",
        "    return ('0',)*n"
      ],
      "execution_count": null,
      "outputs": []
    },
    {
      "cell_type": "code",
      "metadata": {
        "id": "prp4kLEBlVSh"
      },
      "source": [
        "# Function to check generality between two hypothesis\n",
        "def more_general(h1, h2):\n",
        "    more_general_parts = []\n",
        "    for x, y in zip(h1, h2):\n",
        "        mg = x == '?' or (x != '0' and (x == y or y == '0'))\n",
        "        more_general_parts.append(mg)\n",
        "    return all(more_general_parts) # Returns true if all elements of list or tuple are true\n",
        "\n",
        "# Function to check whether train examples are consistent with hypothesis\n",
        "def consistent(hypothesis,example):\n",
        "    return more_general(hypothesis, example)"
      ],
      "execution_count": null,
      "outputs": []
    },
    {
      "cell_type": "code",
      "metadata": {
        "id": "7hAjzoMWlmg6"
      },
      "source": [
        "# Function to add min_generalizations\n",
        "def min_generalizations(h, x):\n",
        "    h_new = list(h)\n",
        "    for i in range(len(h)):\n",
        "        if not consistent(h[i:i+1],x[i:i+1]):\n",
        "            if h[i] != '0':\n",
        "                h_new[i] = '?'\n",
        "            else:\n",
        "                h_new[i] = x[i]\n",
        "    return [tuple(h_new)]\n",
        "\n",
        "# Function to generalize Specific hypto\n",
        "def generalize_S(x, G, S):\n",
        "    S_prev = list(S)\n",
        "    for s in S_prev:\n",
        "        if s not in S:\n",
        "            continue\n",
        "        if not consistent(s,x):\n",
        "            S.remove(s)\n",
        "            Splus = min_generalizations(s, x)\n",
        "            # Keep only generalizations that have a counterpart in G\n",
        "            S.update([h for h in Splus if any([more_general(g,h) \n",
        "                                               for g in G])])\n",
        "            # Remove from S any hypothesis more general than any other hypothesis in S\n",
        "            S.difference_update([h for h in S if \n",
        "                                 any([more_general(h, h1) \n",
        "                                      for h1 in S if h != h1])])\n",
        "    return S"
      ],
      "execution_count": null,
      "outputs": []
    },
    {
      "cell_type": "code",
      "metadata": {
        "id": "5uexsbJTls7a"
      },
      "source": [
        "# Function to add min_specializations\n",
        "def min_specializations(h, domains, x):\n",
        "    results = []\n",
        "    for i in range(len(h)):\n",
        "        if h[i] == '?':\n",
        "            for val in domains[i]:\n",
        "                if x[i] != val:\n",
        "                    h_new = h[:i] + (val,) + h[i+1:]\n",
        "                    results.append(h_new)\n",
        "        elif h[i] != '0':\n",
        "            h_new = h[:i] + ('0',) + h[i+1:]\n",
        "            results.append(h_new)\n",
        "    return results\n",
        "\n",
        "# Function to specialize General hypotheses boundary\n",
        "def specialize_G(x, domains, G, S):\n",
        "    G_prev = list(G)\n",
        "    for g in G_prev:\n",
        "        if g not in G:\n",
        "            continue\n",
        "        if consistent(g,x):\n",
        "            G.remove(g)\n",
        "            Gminus = min_specializations(g, domains, x)\n",
        "            # Keep only specializations that have a counterpart in S\n",
        "            G.update([h for h in Gminus if any([more_general(h, s)\n",
        "                                                for s in S])])\n",
        "            # Remove hypothesis less general than any other hypothesis in G\n",
        "            G.difference_update([h for h in G if \n",
        "                                 any([more_general(g1, h) \n",
        "                                      for g1 in G if h != g1])])\n",
        "    return G"
      ],
      "execution_count": null,
      "outputs": []
    },
    {
      "cell_type": "code",
      "metadata": {
        "id": "HUIuSEJHlvUa"
      },
      "source": [
        "# Function to perform CandidateElimination\n",
        "def candidate_elimination(examples):\n",
        "    domains = get_domains(examples)[:-1] \n",
        "    \n",
        "    G = set([g_0(len(domains))])\n",
        "    S = set([s_0(len(domains))])\n",
        "    i=0\n",
        "    print('All the hypotheses in General and Specific boundary are:\\n')\n",
        "    print('\\n G[{0}]:'.format(i),G)\n",
        "    print('\\n S[{0}]:'.format(i),S)\n",
        "    for xcx in examples:\n",
        "        i=i+1\n",
        "        x, cx = xcx[:-1], xcx[-1]  # Splitting data into attributes and decisions\n",
        "        if cx=='Yes': # x is positive example\n",
        "            G = {g for g in G if consistent(g,x)}\n",
        "            S = generalize_S(x, G, S)\n",
        "        else: # x is negative example\n",
        "            S = {s for s in S if not consistent(s,x)}\n",
        "            G = specialize_G(x, domains, G, S)\n",
        "        print('\\n G[{0}]:'.format(i),G)\n",
        "        print('\\n S[{0}]:'.format(i),S)\n",
        "    return"
      ],
      "execution_count": null,
      "outputs": []
    },
    {
      "cell_type": "code",
      "metadata": {
        "colab": {
          "base_uri": "https://localhost:8080/"
        },
        "id": "zyv0lTijlz8p",
        "outputId": "a4410cfb-8898-4e36-c769-d2e5da2ab7b4"
      },
      "source": [
        "#import pixiedust # Visual debugger\n",
        "#%%pixie_debugger\n",
        "candidate_elimination(examples)"
      ],
      "execution_count": null,
      "outputs": [
        {
          "output_type": "stream",
          "name": "stdout",
          "text": [
            "All the hypotheses in General and Specific boundary are:\n",
            "\n",
            "\n",
            " G[0]: {('?', '?', '?')}\n",
            "\n",
            " S[0]: {('0', '0', '0')}\n",
            "\n",
            " G[1]: {('?', '?', 'Triangle'), ('Small', '?', '?'), ('?', 'Blue', '?')}\n",
            "\n",
            " S[1]: {('0', '0', '0')}\n",
            "\n",
            " G[2]: {('Small', '?', 'Circle'), ('?', 'Blue', '?'), ('Big', '?', 'Triangle')}\n",
            "\n",
            " S[2]: {('0', '0', '0')}\n",
            "\n",
            " G[3]: {('Small', '?', 'Circle')}\n",
            "\n",
            " S[3]: {('Small', 'Red', 'Circle')}\n",
            "\n",
            " G[4]: {('Small', '?', 'Circle')}\n",
            "\n",
            " S[4]: {('Small', 'Red', 'Circle')}\n",
            "\n",
            " G[5]: {('Small', '?', 'Circle')}\n",
            "\n",
            " S[5]: {('Small', '?', 'Circle')}\n"
          ]
        }
      ]
    },
    {
      "cell_type": "code",
      "metadata": {
        "id": "A0OzpgI0l2dZ"
      },
      "source": [
        ""
      ],
      "execution_count": null,
      "outputs": []
    }
  ]
}