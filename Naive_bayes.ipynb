{
  "nbformat": 4,
  "nbformat_minor": 0,
  "metadata": {
    "colab": {
      "name": "Naive_bayes.ipynb",
      "provenance": []
    },
    "kernelspec": {
      "name": "python3",
      "display_name": "Python 3"
    },
    "language_info": {
      "name": "python"
    }
  },
  "cells": [
    {
      "cell_type": "markdown",
      "metadata": {
        "id": "pJif6Hq3BlCy"
      },
      "source": [
        "Initializing libraries"
      ]
    },
    {
      "cell_type": "code",
      "metadata": {
        "id": "ZF_iJ6uZBCDB"
      },
      "source": [
        "import pandas as pd  \n",
        "import numpy as np  \n",
        "import matplotlib.pyplot as plt \n",
        "import seaborn as sns\n",
        "%matplotlib inline"
      ],
      "execution_count": null,
      "outputs": []
    },
    {
      "cell_type": "markdown",
      "metadata": {
        "id": "BwG8sE1vBvF8"
      },
      "source": [
        "Loading Dataset"
      ]
    },
    {
      "cell_type": "code",
      "metadata": {
        "id": "JCOEJpDQBDEQ"
      },
      "source": [
        "data = pd.read_csv('/content/diabetes (1).csv')"
      ],
      "execution_count": null,
      "outputs": []
    },
    {
      "cell_type": "code",
      "metadata": {
        "colab": {
          "base_uri": "https://localhost:8080/"
        },
        "id": "Cbk0kV03Bq11",
        "outputId": "daf3b773-984d-4e95-b825-adeed4c45c29"
      },
      "source": [
        "data.info()"
      ],
      "execution_count": null,
      "outputs": [
        {
          "output_type": "stream",
          "name": "stdout",
          "text": [
            "<class 'pandas.core.frame.DataFrame'>\n",
            "RangeIndex: 768 entries, 0 to 767\n",
            "Data columns (total 9 columns):\n",
            " #   Column                    Non-Null Count  Dtype  \n",
            "---  ------                    --------------  -----  \n",
            " 0   Pregnancies               768 non-null    int64  \n",
            " 1   Glucose                   768 non-null    int64  \n",
            " 2   BloodPressure             768 non-null    int64  \n",
            " 3   SkinThickness             768 non-null    int64  \n",
            " 4   Insulin                   768 non-null    int64  \n",
            " 5   BMI                       768 non-null    float64\n",
            " 6   DiabetesPedigreeFunction  768 non-null    float64\n",
            " 7   Age                       768 non-null    int64  \n",
            " 8   Outcome                   768 non-null    int64  \n",
            "dtypes: float64(2), int64(7)\n",
            "memory usage: 54.1 KB\n"
          ]
        }
      ]
    },
    {
      "cell_type": "markdown",
      "metadata": {
        "id": "vKhyjnTBB01H"
      },
      "source": [
        " Understanding the dataset"
      ]
    },
    {
      "cell_type": "code",
      "metadata": {
        "colab": {
          "base_uri": "https://localhost:8080/",
          "height": 204
        },
        "id": "Fr8kK58bByE1",
        "outputId": "c2847fb8-6cef-4151-bf3d-89a7cd1a8da0"
      },
      "source": [
        "data.head()"
      ],
      "execution_count": null,
      "outputs": [
        {
          "output_type": "execute_result",
          "data": {
            "text/html": [
              "<div>\n",
              "<style scoped>\n",
              "    .dataframe tbody tr th:only-of-type {\n",
              "        vertical-align: middle;\n",
              "    }\n",
              "\n",
              "    .dataframe tbody tr th {\n",
              "        vertical-align: top;\n",
              "    }\n",
              "\n",
              "    .dataframe thead th {\n",
              "        text-align: right;\n",
              "    }\n",
              "</style>\n",
              "<table border=\"1\" class=\"dataframe\">\n",
              "  <thead>\n",
              "    <tr style=\"text-align: right;\">\n",
              "      <th></th>\n",
              "      <th>Pregnancies</th>\n",
              "      <th>Glucose</th>\n",
              "      <th>BloodPressure</th>\n",
              "      <th>SkinThickness</th>\n",
              "      <th>Insulin</th>\n",
              "      <th>BMI</th>\n",
              "      <th>DiabetesPedigreeFunction</th>\n",
              "      <th>Age</th>\n",
              "      <th>Outcome</th>\n",
              "    </tr>\n",
              "  </thead>\n",
              "  <tbody>\n",
              "    <tr>\n",
              "      <th>0</th>\n",
              "      <td>6</td>\n",
              "      <td>148</td>\n",
              "      <td>72</td>\n",
              "      <td>35</td>\n",
              "      <td>0</td>\n",
              "      <td>33.6</td>\n",
              "      <td>0.627</td>\n",
              "      <td>50</td>\n",
              "      <td>1</td>\n",
              "    </tr>\n",
              "    <tr>\n",
              "      <th>1</th>\n",
              "      <td>1</td>\n",
              "      <td>85</td>\n",
              "      <td>66</td>\n",
              "      <td>29</td>\n",
              "      <td>0</td>\n",
              "      <td>26.6</td>\n",
              "      <td>0.351</td>\n",
              "      <td>31</td>\n",
              "      <td>0</td>\n",
              "    </tr>\n",
              "    <tr>\n",
              "      <th>2</th>\n",
              "      <td>8</td>\n",
              "      <td>183</td>\n",
              "      <td>64</td>\n",
              "      <td>0</td>\n",
              "      <td>0</td>\n",
              "      <td>23.3</td>\n",
              "      <td>0.672</td>\n",
              "      <td>32</td>\n",
              "      <td>1</td>\n",
              "    </tr>\n",
              "    <tr>\n",
              "      <th>3</th>\n",
              "      <td>1</td>\n",
              "      <td>89</td>\n",
              "      <td>66</td>\n",
              "      <td>23</td>\n",
              "      <td>94</td>\n",
              "      <td>28.1</td>\n",
              "      <td>0.167</td>\n",
              "      <td>21</td>\n",
              "      <td>0</td>\n",
              "    </tr>\n",
              "    <tr>\n",
              "      <th>4</th>\n",
              "      <td>0</td>\n",
              "      <td>137</td>\n",
              "      <td>40</td>\n",
              "      <td>35</td>\n",
              "      <td>168</td>\n",
              "      <td>43.1</td>\n",
              "      <td>2.288</td>\n",
              "      <td>33</td>\n",
              "      <td>1</td>\n",
              "    </tr>\n",
              "  </tbody>\n",
              "</table>\n",
              "</div>"
            ],
            "text/plain": [
              "   Pregnancies  Glucose  BloodPressure  ...  DiabetesPedigreeFunction  Age  Outcome\n",
              "0            6      148             72  ...                     0.627   50        1\n",
              "1            1       85             66  ...                     0.351   31        0\n",
              "2            8      183             64  ...                     0.672   32        1\n",
              "3            1       89             66  ...                     0.167   21        0\n",
              "4            0      137             40  ...                     2.288   33        1\n",
              "\n",
              "[5 rows x 9 columns]"
            ]
          },
          "metadata": {},
          "execution_count": 6
        }
      ]
    },
    {
      "cell_type": "code",
      "metadata": {
        "colab": {
          "base_uri": "https://localhost:8080/",
          "height": 204
        },
        "id": "_n3XAbhHB3rw",
        "outputId": "c8c946b6-215b-4085-b8c7-6bb6403d7ed8"
      },
      "source": [
        "data.tail()"
      ],
      "execution_count": null,
      "outputs": [
        {
          "output_type": "execute_result",
          "data": {
            "text/html": [
              "<div>\n",
              "<style scoped>\n",
              "    .dataframe tbody tr th:only-of-type {\n",
              "        vertical-align: middle;\n",
              "    }\n",
              "\n",
              "    .dataframe tbody tr th {\n",
              "        vertical-align: top;\n",
              "    }\n",
              "\n",
              "    .dataframe thead th {\n",
              "        text-align: right;\n",
              "    }\n",
              "</style>\n",
              "<table border=\"1\" class=\"dataframe\">\n",
              "  <thead>\n",
              "    <tr style=\"text-align: right;\">\n",
              "      <th></th>\n",
              "      <th>Pregnancies</th>\n",
              "      <th>Glucose</th>\n",
              "      <th>BloodPressure</th>\n",
              "      <th>SkinThickness</th>\n",
              "      <th>Insulin</th>\n",
              "      <th>BMI</th>\n",
              "      <th>DiabetesPedigreeFunction</th>\n",
              "      <th>Age</th>\n",
              "      <th>Outcome</th>\n",
              "    </tr>\n",
              "  </thead>\n",
              "  <tbody>\n",
              "    <tr>\n",
              "      <th>763</th>\n",
              "      <td>10</td>\n",
              "      <td>101</td>\n",
              "      <td>76</td>\n",
              "      <td>48</td>\n",
              "      <td>180</td>\n",
              "      <td>32.9</td>\n",
              "      <td>0.171</td>\n",
              "      <td>63</td>\n",
              "      <td>0</td>\n",
              "    </tr>\n",
              "    <tr>\n",
              "      <th>764</th>\n",
              "      <td>2</td>\n",
              "      <td>122</td>\n",
              "      <td>70</td>\n",
              "      <td>27</td>\n",
              "      <td>0</td>\n",
              "      <td>36.8</td>\n",
              "      <td>0.340</td>\n",
              "      <td>27</td>\n",
              "      <td>0</td>\n",
              "    </tr>\n",
              "    <tr>\n",
              "      <th>765</th>\n",
              "      <td>5</td>\n",
              "      <td>121</td>\n",
              "      <td>72</td>\n",
              "      <td>23</td>\n",
              "      <td>112</td>\n",
              "      <td>26.2</td>\n",
              "      <td>0.245</td>\n",
              "      <td>30</td>\n",
              "      <td>0</td>\n",
              "    </tr>\n",
              "    <tr>\n",
              "      <th>766</th>\n",
              "      <td>1</td>\n",
              "      <td>126</td>\n",
              "      <td>60</td>\n",
              "      <td>0</td>\n",
              "      <td>0</td>\n",
              "      <td>30.1</td>\n",
              "      <td>0.349</td>\n",
              "      <td>47</td>\n",
              "      <td>1</td>\n",
              "    </tr>\n",
              "    <tr>\n",
              "      <th>767</th>\n",
              "      <td>1</td>\n",
              "      <td>93</td>\n",
              "      <td>70</td>\n",
              "      <td>31</td>\n",
              "      <td>0</td>\n",
              "      <td>30.4</td>\n",
              "      <td>0.315</td>\n",
              "      <td>23</td>\n",
              "      <td>0</td>\n",
              "    </tr>\n",
              "  </tbody>\n",
              "</table>\n",
              "</div>"
            ],
            "text/plain": [
              "     Pregnancies  Glucose  ...  Age  Outcome\n",
              "763           10      101  ...   63        0\n",
              "764            2      122  ...   27        0\n",
              "765            5      121  ...   30        0\n",
              "766            1      126  ...   47        1\n",
              "767            1       93  ...   23        0\n",
              "\n",
              "[5 rows x 9 columns]"
            ]
          },
          "metadata": {},
          "execution_count": 7
        }
      ]
    },
    {
      "cell_type": "code",
      "metadata": {
        "colab": {
          "base_uri": "https://localhost:8080/"
        },
        "id": "cqJtt6I3B51t",
        "outputId": "bf398955-d85e-4e44-b658-4843e252dabb"
      },
      "source": [
        "data.describe"
      ],
      "execution_count": null,
      "outputs": [
        {
          "output_type": "execute_result",
          "data": {
            "text/plain": [
              "<bound method NDFrame.describe of      Pregnancies  Glucose  ...  Age  Outcome\n",
              "0              6      148  ...   50        1\n",
              "1              1       85  ...   31        0\n",
              "2              8      183  ...   32        1\n",
              "3              1       89  ...   21        0\n",
              "4              0      137  ...   33        1\n",
              "..           ...      ...  ...  ...      ...\n",
              "763           10      101  ...   63        0\n",
              "764            2      122  ...   27        0\n",
              "765            5      121  ...   30        0\n",
              "766            1      126  ...   47        1\n",
              "767            1       93  ...   23        0\n",
              "\n",
              "[768 rows x 9 columns]>"
            ]
          },
          "metadata": {},
          "execution_count": 8
        }
      ]
    },
    {
      "cell_type": "code",
      "metadata": {
        "colab": {
          "base_uri": "https://localhost:8080/"
        },
        "id": "1lxdf0QgB77k",
        "outputId": "765f62c1-e43c-462d-8cbf-01e1b9ffa26b"
      },
      "source": [
        "data.shape"
      ],
      "execution_count": null,
      "outputs": [
        {
          "output_type": "execute_result",
          "data": {
            "text/plain": [
              "(768, 9)"
            ]
          },
          "metadata": {},
          "execution_count": 9
        }
      ]
    },
    {
      "cell_type": "code",
      "metadata": {
        "colab": {
          "base_uri": "https://localhost:8080/"
        },
        "id": "X_1E-v3lB-CO",
        "outputId": "814bcdf9-58fb-4eff-b4e9-879853bce946"
      },
      "source": [
        "corr = data.corr()\n",
        "print(corr)"
      ],
      "execution_count": null,
      "outputs": [
        {
          "output_type": "stream",
          "name": "stdout",
          "text": [
            "                          Pregnancies   Glucose  ...       Age   Outcome\n",
            "Pregnancies                  1.000000  0.129459  ...  0.544341  0.221898\n",
            "Glucose                      0.129459  1.000000  ...  0.263514  0.466581\n",
            "BloodPressure                0.141282  0.152590  ...  0.239528  0.065068\n",
            "SkinThickness               -0.081672  0.057328  ... -0.113970  0.074752\n",
            "Insulin                     -0.073535  0.331357  ... -0.042163  0.130548\n",
            "BMI                          0.017683  0.221071  ...  0.036242  0.292695\n",
            "DiabetesPedigreeFunction    -0.033523  0.137337  ...  0.033561  0.173844\n",
            "Age                          0.544341  0.263514  ...  1.000000  0.238356\n",
            "Outcome                      0.221898  0.466581  ...  0.238356  1.000000\n",
            "\n",
            "[9 rows x 9 columns]\n"
          ]
        }
      ]
    },
    {
      "cell_type": "code",
      "metadata": {
        "colab": {
          "base_uri": "https://localhost:8080/"
        },
        "id": "GpSUXHQ4CARx",
        "outputId": "01de60e2-0551-417d-ae0c-2560f8ba2722"
      },
      "source": [
        "print(data.mean())"
      ],
      "execution_count": null,
      "outputs": [
        {
          "output_type": "stream",
          "name": "stdout",
          "text": [
            "Pregnancies                   3.845052\n",
            "Glucose                     120.894531\n",
            "BloodPressure                69.105469\n",
            "SkinThickness                20.536458\n",
            "Insulin                      79.799479\n",
            "BMI                          31.992578\n",
            "DiabetesPedigreeFunction      0.471876\n",
            "Age                          33.240885\n",
            "Outcome                       0.348958\n",
            "dtype: float64\n"
          ]
        }
      ]
    },
    {
      "cell_type": "code",
      "metadata": {
        "colab": {
          "base_uri": "https://localhost:8080/"
        },
        "id": "BovpLAS3CDAN",
        "outputId": "9da3b542-5f78-467e-ee2f-e0a1659a0640"
      },
      "source": [
        "print(data.std())"
      ],
      "execution_count": null,
      "outputs": [
        {
          "output_type": "stream",
          "name": "stdout",
          "text": [
            "Pregnancies                   3.369578\n",
            "Glucose                      31.972618\n",
            "BloodPressure                19.355807\n",
            "SkinThickness                15.952218\n",
            "Insulin                     115.244002\n",
            "BMI                           7.884160\n",
            "DiabetesPedigreeFunction      0.331329\n",
            "Age                          11.760232\n",
            "Outcome                       0.476951\n",
            "dtype: float64\n"
          ]
        }
      ]
    },
    {
      "cell_type": "code",
      "metadata": {
        "colab": {
          "base_uri": "https://localhost:8080/"
        },
        "id": "GGLRUChNCFA9",
        "outputId": "62da74e8-2233-4b52-9d9b-14824b5c3bb2"
      },
      "source": [
        "data['Outcome'].value_counts()"
      ],
      "execution_count": null,
      "outputs": [
        {
          "output_type": "execute_result",
          "data": {
            "text/plain": [
              "0    500\n",
              "1    268\n",
              "Name: Outcome, dtype: int64"
            ]
          },
          "metadata": {},
          "execution_count": 13
        }
      ]
    },
    {
      "cell_type": "markdown",
      "metadata": {
        "id": "8kZeXED-CKH9"
      },
      "source": [
        "Labelling the data"
      ]
    },
    {
      "cell_type": "code",
      "metadata": {
        "id": "h733TY44CHjw"
      },
      "source": [
        "X = data.drop('Outcome', axis=1)  \n",
        "y = data['Outcome']"
      ],
      "execution_count": null,
      "outputs": []
    },
    {
      "cell_type": "markdown",
      "metadata": {
        "id": "NYuRdV1fCStO"
      },
      "source": [
        "Splitting the train data and test data"
      ]
    },
    {
      "cell_type": "code",
      "metadata": {
        "id": "RdLOH2GECNO9"
      },
      "source": [
        "from sklearn.model_selection import train_test_split  \n",
        "X_train, X_test, y_train, y_test = train_test_split(X, y, test_size = 0.20)"
      ],
      "execution_count": null,
      "outputs": []
    },
    {
      "cell_type": "code",
      "metadata": {
        "colab": {
          "base_uri": "https://localhost:8080/"
        },
        "id": "FP9JI6BmCQOt",
        "outputId": "15120f1c-7e5a-4b16-c35a-a409ef0c651e"
      },
      "source": [
        "print(X_train)"
      ],
      "execution_count": null,
      "outputs": [
        {
          "output_type": "stream",
          "name": "stdout",
          "text": [
            "     Pregnancies  Glucose  BloodPressure  ...   BMI  DiabetesPedigreeFunction  Age\n",
            "380            1      107             72  ...  30.8                     0.821   24\n",
            "684            5      136             82  ...   0.0                     0.640   69\n",
            "662            8      167            106  ...  37.6                     0.165   43\n",
            "326            1      122             64  ...  35.1                     0.692   30\n",
            "437            5      147             75  ...  29.9                     0.434   28\n",
            "..           ...      ...            ...  ...   ...                       ...  ...\n",
            "377            1       87             60  ...  37.2                     0.509   22\n",
            "393            4      116             72  ...  22.1                     0.463   37\n",
            "98             6       93             50  ...  28.7                     0.356   23\n",
            "244            2      146             76  ...  38.2                     0.329   29\n",
            "160            4      151             90  ...  29.7                     0.294   36\n",
            "\n",
            "[614 rows x 8 columns]\n"
          ]
        }
      ]
    },
    {
      "cell_type": "code",
      "metadata": {
        "colab": {
          "base_uri": "https://localhost:8080/"
        },
        "id": "PXp4DyiuCVco",
        "outputId": "8683ee60-f3b2-4f7a-cc6c-0d3c26f8c28d"
      },
      "source": [
        "print(y_train)"
      ],
      "execution_count": null,
      "outputs": [
        {
          "output_type": "stream",
          "name": "stdout",
          "text": [
            "380    0\n",
            "684    0\n",
            "662    1\n",
            "326    1\n",
            "437    0\n",
            "      ..\n",
            "377    0\n",
            "393    0\n",
            "98     0\n",
            "244    0\n",
            "160    0\n",
            "Name: Outcome, Length: 614, dtype: int64\n"
          ]
        }
      ]
    },
    {
      "cell_type": "code",
      "metadata": {
        "colab": {
          "base_uri": "https://localhost:8080/"
        },
        "id": "-5vsog5cCYRR",
        "outputId": "ecbbad0a-a7ff-4592-debb-17d6e3275b85"
      },
      "source": [
        "print(X_test)"
      ],
      "execution_count": null,
      "outputs": [
        {
          "output_type": "stream",
          "name": "stdout",
          "text": [
            "     Pregnancies  Glucose  BloodPressure  ...   BMI  DiabetesPedigreeFunction  Age\n",
            "163            2      100             64  ...  29.7                     0.368   21\n",
            "491            2       89             90  ...  33.5                     0.292   42\n",
            "47             2       71             70  ...  28.0                     0.586   22\n",
            "448            0      104             64  ...  33.6                     0.510   22\n",
            "285            7      136             74  ...  26.0                     0.647   51\n",
            "..           ...      ...            ...  ...   ...                       ...  ...\n",
            "65             5       99             74  ...  29.0                     0.203   32\n",
            "657            1      120             80  ...  38.9                     1.162   41\n",
            "745           12      100             84  ...  30.0                     0.488   46\n",
            "661            1      199             76  ...  42.9                     1.394   22\n",
            "587            6      103             66  ...  24.3                     0.249   29\n",
            "\n",
            "[154 rows x 8 columns]\n"
          ]
        }
      ]
    },
    {
      "cell_type": "code",
      "metadata": {
        "colab": {
          "base_uri": "https://localhost:8080/"
        },
        "id": "DxL_q89FCaKs",
        "outputId": "08a9791c-cde6-43a1-a723-09f3f2ce34ad"
      },
      "source": [
        "print(y_test)"
      ],
      "execution_count": null,
      "outputs": [
        {
          "output_type": "stream",
          "name": "stdout",
          "text": [
            "163    0\n",
            "491    0\n",
            "47     0\n",
            "448    1\n",
            "285    0\n",
            "      ..\n",
            "65     0\n",
            "657    0\n",
            "745    0\n",
            "661    1\n",
            "587    0\n",
            "Name: Outcome, Length: 154, dtype: int64\n"
          ]
        }
      ]
    },
    {
      "cell_type": "markdown",
      "metadata": {
        "id": "TAQdRlabClLu"
      },
      "source": [
        "Running algorithms"
      ]
    },
    {
      "cell_type": "code",
      "metadata": {
        "id": "E3fuLMtMCcTX"
      },
      "source": [
        "from sklearn.linear_model import LogisticRegression"
      ],
      "execution_count": null,
      "outputs": []
    },
    {
      "cell_type": "code",
      "metadata": {
        "colab": {
          "base_uri": "https://localhost:8080/"
        },
        "id": "_wPNO1xBCfoB",
        "outputId": "fbdcbf7a-1d5b-4789-b7a4-d3d50c477d30"
      },
      "source": [
        "data_Check = LogisticRegression()\n",
        "data_Check.fit(X_train, y_train)\n",
        "y_pred = data_Check.predict(X_test)\n",
        "correct = (y_pred == y_test).sum()\n",
        "accuracy = correct/len(y_test)*100\n",
        "print(\"accuracy = \", accuracy, \"%\")"
      ],
      "execution_count": null,
      "outputs": [
        {
          "output_type": "stream",
          "name": "stdout",
          "text": [
            "accuracy =  76.62337662337663 %\n"
          ]
        },
        {
          "output_type": "stream",
          "name": "stderr",
          "text": [
            "/usr/local/lib/python3.7/dist-packages/sklearn/linear_model/_logistic.py:940: ConvergenceWarning: lbfgs failed to converge (status=1):\n",
            "STOP: TOTAL NO. of ITERATIONS REACHED LIMIT.\n",
            "\n",
            "Increase the number of iterations (max_iter) or scale the data as shown in:\n",
            "    https://scikit-learn.org/stable/modules/preprocessing.html\n",
            "Please also refer to the documentation for alternative solver options:\n",
            "    https://scikit-learn.org/stable/modules/linear_model.html#logistic-regression\n",
            "  extra_warning_msg=_LOGISTIC_SOLVER_CONVERGENCE_MSG)\n"
          ]
        }
      ]
    },
    {
      "cell_type": "markdown",
      "metadata": {
        "id": "KVY4RHyTCxT8"
      },
      "source": [
        "Let us check with Clasification Decison Tree"
      ]
    },
    {
      "cell_type": "code",
      "metadata": {
        "colab": {
          "base_uri": "https://localhost:8080/"
        },
        "id": "RTCe0n-LCotW",
        "outputId": "f694a5e8-c298-42c7-a5de-0b3b2ddfee92"
      },
      "source": [
        "from sklearn.tree import DecisionTreeClassifier  \n",
        "data_classifier = DecisionTreeClassifier()  \n",
        "data_classifier.fit(X_train, y_train) \n",
        "y_pred = data_classifier.predict(X_test)\n",
        "\n",
        "\n",
        "correct = (y_pred==y_test).sum()\n",
        "accuracy = correct/len(y_test)*100\n",
        "print(\"accuracy = \", accuracy, \"%\")\n",
        "\n"
      ],
      "execution_count": null,
      "outputs": [
        {
          "output_type": "stream",
          "name": "stdout",
          "text": [
            "accuracy =  72.72727272727273 %\n"
          ]
        }
      ]
    },
    {
      "cell_type": "markdown",
      "metadata": {
        "id": "YusHTghSC2pZ"
      },
      "source": [
        "\n",
        "Let us check with Support Vector Machine"
      ]
    },
    {
      "cell_type": "code",
      "metadata": {
        "colab": {
          "base_uri": "https://localhost:8080/"
        },
        "id": "k0-FUUvdCz9S",
        "outputId": "68368a8f-3d44-4d0e-c4da-91f35e3a0807"
      },
      "source": [
        "from sklearn.svm import SVC  \n",
        "svclassifier = SVC(kernel='linear')  \n",
        "svclassifier.fit(X, y)\n",
        "\n",
        "y_pred = svclassifier.predict(X)\n",
        "correct = (y_pred==y).sum()\n",
        "accuracy = correct/len(y)*100\n",
        "print(\"accuracy = \", accuracy, \"%\")"
      ],
      "execution_count": null,
      "outputs": [
        {
          "output_type": "stream",
          "name": "stdout",
          "text": [
            "accuracy =  77.734375 %\n"
          ]
        }
      ]
    },
    {
      "cell_type": "markdown",
      "metadata": {
        "id": "MFuHO16JDDU6"
      },
      "source": [
        "Let us check with Naive Bayes"
      ]
    },
    {
      "cell_type": "code",
      "metadata": {
        "colab": {
          "base_uri": "https://localhost:8080/"
        },
        "id": "VqPrRMHKC-cd",
        "outputId": "f76c84b7-6322-4608-f450-5e00177fad72"
      },
      "source": [
        "from sklearn.naive_bayes import GaussianNB \n",
        "gnb = GaussianNB() \n",
        "gnb.fit(X, y) \n",
        "y_pred = gnb.predict(X)\n",
        "correct = (y_pred==y).sum()\n",
        "accuracy = correct/len(y)*100\n",
        "print(\"accuracy = \", accuracy, \"%\")"
      ],
      "execution_count": null,
      "outputs": [
        {
          "output_type": "stream",
          "name": "stdout",
          "text": [
            "accuracy =  76.30208333333334 %\n"
          ]
        }
      ]
    },
    {
      "cell_type": "code",
      "metadata": {
        "id": "59tn_S_aDFtV"
      },
      "source": [
        ""
      ],
      "execution_count": null,
      "outputs": []
    }
  ]
}