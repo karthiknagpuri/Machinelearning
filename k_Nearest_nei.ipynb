{
  "nbformat": 4,
  "nbformat_minor": 0,
  "metadata": {
    "colab": {
      "name": "k-nearest-neighbours.ipynb",
      "provenance": []
    },
    "kernelspec": {
      "name": "python3",
      "display_name": "Python 3"
    },
    "language_info": {
      "name": "python"
    }
  },
  "cells": [
    {
      "cell_type": "markdown",
      "metadata": {
        "id": "YHSbVAjWAA3V"
      },
      "source": [
        "first feature"
      ]
    },
    {
      "cell_type": "code",
      "metadata": {
        "id": "mRWYukOW9iKs"
      },
      "source": [
        "weather=['sunny','sunny','overcast','rainy','rainy','rainy','overcast','sunny','sunny','rainy','sunny','overcast','overcast','rainy']"
      ],
      "execution_count": 1,
      "outputs": []
    },
    {
      "cell_type": "markdown",
      "metadata": {
        "id": "BnpLRi47AEEj"
      },
      "source": [
        "second feature"
      ]
    },
    {
      "cell_type": "code",
      "metadata": {
        "id": "1xCIvlzxALdb"
      },
      "source": [
        "temp=['hot','hot','hot','mild','cool','cool','cool','mild','cool','mild','mild','mild','hot','mild']"
      ],
      "execution_count": 2,
      "outputs": []
    },
    {
      "cell_type": "markdown",
      "metadata": {
        "id": "5QI7PAkuAq2T"
      },
      "source": [
        "label or target variable"
      ]
    },
    {
      "cell_type": "code",
      "metadata": {
        "id": "A1kFyumQAolE"
      },
      "source": [
        "play=['no','no','yes','yes','yes','no','yes','no','yes','yes','yes','yes','yes','no']"
      ],
      "execution_count": 3,
      "outputs": []
    },
    {
      "cell_type": "markdown",
      "metadata": {
        "id": "oQhknUmLBaJd"
      },
      "source": [
        "importing label encoder"
      ]
    },
    {
      "cell_type": "code",
      "metadata": {
        "id": "dpDv8JDzBT4d"
      },
      "source": [
        "from sklearn import preprocessing"
      ],
      "execution_count": 4,
      "outputs": []
    },
    {
      "cell_type": "markdown",
      "metadata": {
        "id": "hoBgmLcBBtIV"
      },
      "source": [
        "creating label encoder"
      ]
    },
    {
      "cell_type": "code",
      "metadata": {
        "id": "gsr9hNqWBlPk"
      },
      "source": [
        "knn=preprocessing.LabelEncoder()"
      ],
      "execution_count": 9,
      "outputs": []
    },
    {
      "cell_type": "markdown",
      "metadata": {
        "id": "hD9O53ldCBLU"
      },
      "source": [
        "converting categorical into numerical values"
      ]
    },
    {
      "cell_type": "code",
      "metadata": {
        "id": "R7m-G0K2F4yF"
      },
      "source": [
        "weather_endoded=knn.fit_transform(weather)"
      ],
      "execution_count": 13,
      "outputs": []
    },
    {
      "cell_type": "code",
      "metadata": {
        "colab": {
          "base_uri": "https://localhost:8080/"
        },
        "id": "4r4ikEg6Cbhs",
        "outputId": "20b44fe2-66f5-4ef3-8b35-c91162a61f9b"
      },
      "source": [
        "print(weather_encoded)"
      ],
      "execution_count": 12,
      "outputs": [
        {
          "output_type": "stream",
          "name": "stdout",
          "text": [
            "[2 2 0 1 1 1 0 2 2 1 2 0 0 1]\n"
          ]
        }
      ]
    },
    {
      "cell_type": "code",
      "metadata": {
        "id": "TqdW3jzpE8Ll"
      },
      "source": [
        "temp_encoded=knn.fit_transform(temp)"
      ],
      "execution_count": 14,
      "outputs": []
    },
    {
      "cell_type": "code",
      "metadata": {
        "colab": {
          "base_uri": "https://localhost:8080/"
        },
        "id": "8SHK5tiCGLJV",
        "outputId": "e36d838c-3e2b-4b82-f85a-1d95955ec587"
      },
      "source": [
        "print(temp_encoded)"
      ],
      "execution_count": 17,
      "outputs": [
        {
          "output_type": "stream",
          "name": "stdout",
          "text": [
            "[1 1 1 2 0 0 0 2 0 2 2 2 1 2]\n"
          ]
        }
      ]
    },
    {
      "cell_type": "code",
      "metadata": {
        "id": "VlqCDwapGOrt"
      },
      "source": [
        "output=knn.fit_transform(play)"
      ],
      "execution_count": 18,
      "outputs": []
    },
    {
      "cell_type": "code",
      "metadata": {
        "id": "OfukHO1gGvSN",
        "outputId": "80996e6e-bed4-4647-e43a-4313cc52b975",
        "colab": {
          "base_uri": "https://localhost:8080/"
        }
      },
      "source": [
        "print(output)"
      ],
      "execution_count": 19,
      "outputs": [
        {
          "output_type": "stream",
          "name": "stdout",
          "text": [
            "[0 0 1 1 1 0 1 0 1 1 1 1 1 0]\n"
          ]
        }
      ]
    },
    {
      "cell_type": "markdown",
      "metadata": {
        "id": "_NaqUyhMG2KW"
      },
      "source": [
        "combining features"
      ]
    },
    {
      "cell_type": "code",
      "metadata": {
        "id": "G4045GiJGydN"
      },
      "source": [
        "features=list(zip(weather_encoded,temp_encoded))"
      ],
      "execution_count": 21,
      "outputs": []
    },
    {
      "cell_type": "code",
      "metadata": {
        "id": "hV68Y6PzH8tm",
        "outputId": "9b430be5-659a-4ba6-b795-5a9f84979baf",
        "colab": {
          "base_uri": "https://localhost:8080/"
        }
      },
      "source": [
        "print(features)"
      ],
      "execution_count": 23,
      "outputs": [
        {
          "output_type": "stream",
          "name": "stdout",
          "text": [
            "[(2, 1), (2, 1), (0, 1), (1, 2), (1, 0), (1, 0), (0, 0), (2, 2), (2, 0), (1, 2), (2, 2), (0, 2), (0, 1), (1, 2)]\n"
          ]
        }
      ]
    },
    {
      "cell_type": "markdown",
      "metadata": {
        "id": "WIyitr7VKFHO"
      },
      "source": [
        "generating model using knn"
      ]
    },
    {
      "cell_type": "code",
      "metadata": {
        "id": "0O7UJYEcICn9"
      },
      "source": [
        "from sklearn.neighbors import KNeighborsClassifier"
      ],
      "execution_count": 26,
      "outputs": []
    },
    {
      "cell_type": "code",
      "metadata": {
        "id": "wdl0bfm7Kzed"
      },
      "source": [
        "model=KNeighborsClassifier(n_neighbors=3)"
      ],
      "execution_count": 28,
      "outputs": []
    },
    {
      "cell_type": "code",
      "metadata": {
        "id": "YC09qtJDNXIM",
        "outputId": "a32d2933-5d18-4e93-d73d-bb50428188dc",
        "colab": {
          "base_uri": "https://localhost:8080/"
        }
      },
      "source": [
        "model.fit(features,output)"
      ],
      "execution_count": 29,
      "outputs": [
        {
          "output_type": "execute_result",
          "data": {
            "text/plain": [
              "KNeighborsClassifier(n_neighbors=3)"
            ]
          },
          "metadata": {},
          "execution_count": 29
        }
      ]
    },
    {
      "cell_type": "code",
      "metadata": {
        "id": "dmKiGE_NNp9O"
      },
      "source": [
        "features1=list(zip(weather_encoded,temp_encoded,output))"
      ],
      "execution_count": 30,
      "outputs": []
    },
    {
      "cell_type": "code",
      "metadata": {
        "id": "CNYUrPavOGHO",
        "outputId": "d937ddd9-dd73-4489-e15f-cc38d448ca5f",
        "colab": {
          "base_uri": "https://localhost:8080/"
        }
      },
      "source": [
        "print(features1)"
      ],
      "execution_count": 31,
      "outputs": [
        {
          "output_type": "stream",
          "name": "stdout",
          "text": [
            "[(2, 1, 0), (2, 1, 0), (0, 1, 1), (1, 2, 1), (1, 0, 1), (1, 0, 0), (0, 0, 1), (2, 2, 0), (2, 0, 1), (1, 2, 1), (2, 2, 1), (0, 2, 1), (0, 1, 1), (1, 2, 0)]\n"
          ]
        }
      ]
    },
    {
      "cell_type": "code",
      "metadata": {
        "id": "5Tt5ywdmOIr-"
      },
      "source": [
        "prediction=model.predict([[2,1]])"
      ],
      "execution_count": 32,
      "outputs": []
    },
    {
      "cell_type": "code",
      "metadata": {
        "id": "3BaJu79sOeqe",
        "outputId": "1a89aec0-1f1f-401a-c5b2-305c384ff889",
        "colab": {
          "base_uri": "https://localhost:8080/"
        }
      },
      "source": [
        "print(prediction)"
      ],
      "execution_count": 33,
      "outputs": [
        {
          "output_type": "stream",
          "name": "stdout",
          "text": [
            "[0]\n"
          ]
        }
      ]
    },
    {
      "cell_type": "code",
      "metadata": {
        "id": "1b2sfXibOiM-"
      },
      "source": [
        ""
      ],
      "execution_count": null,
      "outputs": []
    }
  ]
}